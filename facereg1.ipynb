{
 "cells": [
  {
   "cell_type": "code",
   "execution_count": 1,
   "metadata": {},
   "outputs": [],
   "source": [
    "import face_recognition\n",
    "import cv2\n",
    "import numpy as np"
   ]
  },
  {
   "cell_type": "code",
   "execution_count": 2,
   "metadata": {},
   "outputs": [
    {
     "ename": "FileNotFoundError",
     "evalue": "[Errno 2] No such file or directory: 'C:/Users/ASUS/Desktop/faceregatt/elonmask.jpg'",
     "output_type": "error",
     "traceback": [
      "\u001b[1;31m---------------------------------------------------------------------------\u001b[0m",
      "\u001b[1;31mFileNotFoundError\u001b[0m                         Traceback (most recent call last)",
      "\u001b[1;32m<ipython-input-2-b5ec87f948f7>\u001b[0m in \u001b[0;36m<module>\u001b[1;34m\u001b[0m\n\u001b[1;32m----> 1\u001b[1;33m \u001b[0mimgElon\u001b[0m \u001b[1;33m=\u001b[0m \u001b[0mface_recognition\u001b[0m\u001b[1;33m.\u001b[0m\u001b[0mload_image_file\u001b[0m\u001b[1;33m(\u001b[0m\u001b[1;34m'C:/Users/ASUS/Desktop/faceregatt/elonmask.jpg'\u001b[0m\u001b[1;33m)\u001b[0m\u001b[1;33m\u001b[0m\u001b[1;33m\u001b[0m\u001b[0m\n\u001b[0m\u001b[0;32m      2\u001b[0m \u001b[0mimgElon\u001b[0m \u001b[1;33m=\u001b[0m \u001b[0mcv2\u001b[0m\u001b[1;33m.\u001b[0m\u001b[0mcvtColor\u001b[0m\u001b[1;33m(\u001b[0m\u001b[0mimgElon\u001b[0m\u001b[1;33m,\u001b[0m\u001b[0mcv2\u001b[0m\u001b[1;33m.\u001b[0m\u001b[0mCOLOR_BGR2RGB\u001b[0m\u001b[1;33m)\u001b[0m\u001b[1;33m\u001b[0m\u001b[1;33m\u001b[0m\u001b[0m\n\u001b[0;32m      3\u001b[0m \u001b[0mimgTest\u001b[0m \u001b[1;33m=\u001b[0m \u001b[0mface_recognition\u001b[0m\u001b[1;33m.\u001b[0m\u001b[0mload_image_file\u001b[0m\u001b[1;33m(\u001b[0m\u001b[1;34m'C:/Users/ASUS/Desktop/faceregatt/elontest.jpg'\u001b[0m\u001b[1;33m)\u001b[0m\u001b[1;33m\u001b[0m\u001b[1;33m\u001b[0m\u001b[0m\n\u001b[0;32m      4\u001b[0m \u001b[0mimgTest\u001b[0m \u001b[1;33m=\u001b[0m \u001b[0mcv2\u001b[0m\u001b[1;33m.\u001b[0m\u001b[0mcvtColor\u001b[0m\u001b[1;33m(\u001b[0m\u001b[0mimgTest\u001b[0m\u001b[1;33m,\u001b[0m\u001b[0mcv2\u001b[0m\u001b[1;33m.\u001b[0m\u001b[0mCOLOR_BGR2RGB\u001b[0m\u001b[1;33m)\u001b[0m\u001b[1;33m\u001b[0m\u001b[1;33m\u001b[0m\u001b[0m\n",
      "\u001b[1;32m~\\Anaconda3\\lib\\site-packages\\face_recognition\\api.py\u001b[0m in \u001b[0;36mload_image_file\u001b[1;34m(file, mode)\u001b[0m\n\u001b[0;32m     84\u001b[0m     \u001b[1;33m:\u001b[0m\u001b[1;32mreturn\u001b[0m\u001b[1;33m:\u001b[0m \u001b[0mimage\u001b[0m \u001b[0mcontents\u001b[0m \u001b[1;32mas\u001b[0m \u001b[0mnumpy\u001b[0m \u001b[0marray\u001b[0m\u001b[1;33m\u001b[0m\u001b[1;33m\u001b[0m\u001b[0m\n\u001b[0;32m     85\u001b[0m     \"\"\"\n\u001b[1;32m---> 86\u001b[1;33m     \u001b[0mim\u001b[0m \u001b[1;33m=\u001b[0m \u001b[0mPIL\u001b[0m\u001b[1;33m.\u001b[0m\u001b[0mImage\u001b[0m\u001b[1;33m.\u001b[0m\u001b[0mopen\u001b[0m\u001b[1;33m(\u001b[0m\u001b[0mfile\u001b[0m\u001b[1;33m)\u001b[0m\u001b[1;33m\u001b[0m\u001b[1;33m\u001b[0m\u001b[0m\n\u001b[0m\u001b[0;32m     87\u001b[0m     \u001b[1;32mif\u001b[0m \u001b[0mmode\u001b[0m\u001b[1;33m:\u001b[0m\u001b[1;33m\u001b[0m\u001b[1;33m\u001b[0m\u001b[0m\n\u001b[0;32m     88\u001b[0m         \u001b[0mim\u001b[0m \u001b[1;33m=\u001b[0m \u001b[0mim\u001b[0m\u001b[1;33m.\u001b[0m\u001b[0mconvert\u001b[0m\u001b[1;33m(\u001b[0m\u001b[0mmode\u001b[0m\u001b[1;33m)\u001b[0m\u001b[1;33m\u001b[0m\u001b[1;33m\u001b[0m\u001b[0m\n",
      "\u001b[1;32m~\\Anaconda3\\lib\\site-packages\\PIL\\Image.py\u001b[0m in \u001b[0;36mopen\u001b[1;34m(fp, mode)\u001b[0m\n\u001b[0;32m   2768\u001b[0m \u001b[1;33m\u001b[0m\u001b[0m\n\u001b[0;32m   2769\u001b[0m     \u001b[1;32mif\u001b[0m \u001b[0mfilename\u001b[0m\u001b[1;33m:\u001b[0m\u001b[1;33m\u001b[0m\u001b[1;33m\u001b[0m\u001b[0m\n\u001b[1;32m-> 2770\u001b[1;33m         \u001b[0mfp\u001b[0m \u001b[1;33m=\u001b[0m \u001b[0mbuiltins\u001b[0m\u001b[1;33m.\u001b[0m\u001b[0mopen\u001b[0m\u001b[1;33m(\u001b[0m\u001b[0mfilename\u001b[0m\u001b[1;33m,\u001b[0m \u001b[1;34m\"rb\"\u001b[0m\u001b[1;33m)\u001b[0m\u001b[1;33m\u001b[0m\u001b[1;33m\u001b[0m\u001b[0m\n\u001b[0m\u001b[0;32m   2771\u001b[0m         \u001b[0mexclusive_fp\u001b[0m \u001b[1;33m=\u001b[0m \u001b[1;32mTrue\u001b[0m\u001b[1;33m\u001b[0m\u001b[1;33m\u001b[0m\u001b[0m\n\u001b[0;32m   2772\u001b[0m \u001b[1;33m\u001b[0m\u001b[0m\n",
      "\u001b[1;31mFileNotFoundError\u001b[0m: [Errno 2] No such file or directory: 'C:/Users/ASUS/Desktop/faceregatt/elonmask.jpg'"
     ]
    }
   ],
   "source": [
    "imgElon = face_recognition.load_image_file('C:/Users/ASUS/Desktop/faceregatt/elonmask.jpg')\n",
    "imgElon = cv2.cvtColor(imgElon,cv2.COLOR_BGR2RGB)\n",
    "imgTest = face_recognition.load_image_file('C:/Users/ASUS/Desktop/faceregatt/elontest.jpg')\n",
    "imgTest = cv2.cvtColor(imgTest,cv2.COLOR_BGR2RGB)"
   ]
  },
  {
   "cell_type": "code",
   "execution_count": 12,
   "metadata": {},
   "outputs": [
    {
     "data": {
      "text/plain": [
       "-1"
      ]
     },
     "execution_count": 12,
     "metadata": {},
     "output_type": "execute_result"
    }
   ],
   "source": [
    "cv2.imshow('Elon Musk',imgElon)\n",
    "cv2.imshow('Elon Test',imgTest)\n",
    "cv2.waitKey(0)"
   ]
  },
  {
   "cell_type": "code",
   "execution_count": 13,
   "metadata": {},
   "outputs": [
    {
     "data": {
      "text/plain": [
       "array([[[11,  7, 12],\n",
       "        [12,  8, 13],\n",
       "        [13,  9, 14],\n",
       "        ...,\n",
       "        [ 5,  2,  4],\n",
       "        [ 6,  3,  5],\n",
       "        [ 6,  3,  5]],\n",
       "\n",
       "       [[ 9,  5, 10],\n",
       "        [ 9,  5, 10],\n",
       "        [10,  6, 11],\n",
       "        ...,\n",
       "        [ 5,  2,  4],\n",
       "        [ 6,  3,  5],\n",
       "        [ 6,  3,  5]],\n",
       "\n",
       "       [[ 9,  5, 10],\n",
       "        [ 9,  5, 10],\n",
       "        [ 9,  5, 10],\n",
       "        ...,\n",
       "        [ 5,  2,  4],\n",
       "        [ 6,  3,  5],\n",
       "        [ 6,  3,  5]],\n",
       "\n",
       "       ...,\n",
       "\n",
       "       [[14,  9, 10],\n",
       "        [14,  9, 10],\n",
       "        [13,  8,  9],\n",
       "        ...,\n",
       "        [ 6,  3,  5],\n",
       "        [ 5,  2,  4],\n",
       "        [ 5,  2,  4]],\n",
       "\n",
       "       [[15, 10, 11],\n",
       "        [14,  9, 10],\n",
       "        [13,  8,  9],\n",
       "        ...,\n",
       "        [ 5,  2,  4],\n",
       "        [ 4,  1,  3],\n",
       "        [ 4,  1,  3]],\n",
       "\n",
       "       [[17, 12, 13],\n",
       "        [16, 11, 12],\n",
       "        [15, 10, 11],\n",
       "        ...,\n",
       "        [ 4,  1,  3],\n",
       "        [ 4,  1,  3],\n",
       "        [ 3,  0,  2]]], dtype=uint8)"
      ]
     },
     "execution_count": 13,
     "metadata": {},
     "output_type": "execute_result"
    }
   ],
   "source": [
    "faceLoc = face_recognition.face_locations(imgElon)[0]\n",
    "encodeElon = face_recognition.face_encodings(imgElon)[0]\n",
    "cv2.rectangle(imgElon,(faceLoc[3],faceLoc[0]),(faceLoc[1],faceLoc[2]),(255,0,255),2) # top, right, bottom, left\n",
    " \n",
    "faceLocTest = face_recognition.face_locations(imgTest)[0]\n",
    "encodeTest = face_recognition.face_encodings(imgTest)[0]\n",
    "cv2.rectangle(imgTest,(faceLocTest[3],faceLocTest[0]),(faceLocTest[1],faceLocTest[2]),(255,0,255),2)"
   ]
  },
  {
   "cell_type": "code",
   "execution_count": 7,
   "metadata": {},
   "outputs": [
    {
     "data": {
      "text/plain": [
       "-1"
      ]
     },
     "execution_count": 7,
     "metadata": {},
     "output_type": "execute_result"
    }
   ],
   "source": [
    "cv2.imshow('Elon Musk',imgElon)\n",
    "cv2.imshow('Elon Test',imgTest)\n",
    "cv2.waitKey(0)"
   ]
  },
  {
   "cell_type": "code",
   "execution_count": 9,
   "metadata": {},
   "outputs": [
    {
     "data": {
      "text/plain": [
       "128"
      ]
     },
     "execution_count": 9,
     "metadata": {},
     "output_type": "execute_result"
    }
   ],
   "source": [
    "encodeElon.size"
   ]
  },
  {
   "cell_type": "code",
   "execution_count": 14,
   "metadata": {},
   "outputs": [
    {
     "name": "stdout",
     "output_type": "stream",
     "text": [
      "[True] [0.34870291]\n"
     ]
    },
    {
     "data": {
      "text/plain": [
       "array([[[11,  7, 12],\n",
       "        [12,  8, 13],\n",
       "        [13,  9, 14],\n",
       "        ...,\n",
       "        [ 5,  2,  4],\n",
       "        [ 6,  3,  5],\n",
       "        [ 6,  3,  5]],\n",
       "\n",
       "       [[ 9,  5, 10],\n",
       "        [ 9,  5, 10],\n",
       "        [10,  6, 11],\n",
       "        ...,\n",
       "        [ 5,  2,  4],\n",
       "        [ 6,  3,  5],\n",
       "        [ 6,  3,  5]],\n",
       "\n",
       "       [[ 9,  5, 10],\n",
       "        [ 9,  5, 10],\n",
       "        [ 9,  5, 10],\n",
       "        ...,\n",
       "        [ 5,  2,  4],\n",
       "        [ 6,  3,  5],\n",
       "        [ 6,  3,  5]],\n",
       "\n",
       "       ...,\n",
       "\n",
       "       [[14,  9, 10],\n",
       "        [14,  9, 10],\n",
       "        [13,  8,  9],\n",
       "        ...,\n",
       "        [ 6,  3,  5],\n",
       "        [ 5,  2,  4],\n",
       "        [ 5,  2,  4]],\n",
       "\n",
       "       [[15, 10, 11],\n",
       "        [14,  9, 10],\n",
       "        [13,  8,  9],\n",
       "        ...,\n",
       "        [ 5,  2,  4],\n",
       "        [ 4,  1,  3],\n",
       "        [ 4,  1,  3]],\n",
       "\n",
       "       [[17, 12, 13],\n",
       "        [16, 11, 12],\n",
       "        [15, 10, 11],\n",
       "        ...,\n",
       "        [ 4,  1,  3],\n",
       "        [ 4,  1,  3],\n",
       "        [ 3,  0,  2]]], dtype=uint8)"
      ]
     },
     "execution_count": 14,
     "metadata": {},
     "output_type": "execute_result"
    }
   ],
   "source": [
    "results = face_recognition.compare_faces([encodeElon], encodeTest)\n",
    "faceDis = face_recognition.face_distance([encodeElon], encodeTest)\n",
    "print(results,faceDis)\n",
    "cv2.putText(imgTest,f'{results} {round(faceDis[0],2)} ',(50,50),cv2.FONT_HERSHEY_COMPLEX,1,(255,0,255),3)"
   ]
  },
  {
   "cell_type": "code",
   "execution_count": null,
   "metadata": {},
   "outputs": [],
   "source": []
  }
 ],
 "metadata": {
  "kernelspec": {
   "display_name": "Python 3",
   "language": "python",
   "name": "python3"
  },
  "language_info": {
   "codemirror_mode": {
    "name": "ipython",
    "version": 3
   },
   "file_extension": ".py",
   "mimetype": "text/x-python",
   "name": "python",
   "nbconvert_exporter": "python",
   "pygments_lexer": "ipython3",
   "version": "3.7.3"
  }
 },
 "nbformat": 4,
 "nbformat_minor": 2
}
